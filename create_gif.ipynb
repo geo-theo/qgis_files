{
 "cells": [
  {
   "cell_type": "code",
   "execution_count": 1,
   "id": "39f2141b-943f-42ef-8adc-9c82afd91f1e",
   "metadata": {},
   "outputs": [],
   "source": [
    "import os\n",
    "import imageio.v3 as iio"
   ]
  },
  {
   "cell_type": "code",
   "execution_count": 2,
   "id": "7af834f4-cd4d-4282-ba03-cfa3c72d9689",
   "metadata": {},
   "outputs": [],
   "source": [
    "png_source_folder = './SEAsia_exports/'\n",
    "filename_convention = ['piracy_animation_testABCD.png']"
   ]
  },
  {
   "cell_type": "code",
   "execution_count": 3,
   "id": "b981a693-10c2-4f5d-938c-f9d450e8f74d",
   "metadata": {},
   "outputs": [
    {
     "name": "stdout",
     "output_type": "stream",
     "text": [
      "piracy_animation_test0000.png\n"
     ]
    }
   ],
   "source": [
    "a=0\n",
    "b=0\n",
    "c=0\n",
    "d=0\n",
    "print(str('piracy_animation_test' + str(a) + str(b) + str(c) + str(d) + str('.png')))"
   ]
  },
  {
   "cell_type": "code",
   "execution_count": 4,
   "id": "9fe8cbfe-6729-4957-ab2b-68fe0ff1262f",
   "metadata": {},
   "outputs": [],
   "source": [
    "files_list = os.listdir(png_source_folder)\n",
    "files_list.sort()\n",
    "len_files_list = len(files_list)"
   ]
  },
  {
   "cell_type": "code",
   "execution_count": 5,
   "id": "c2782984-0471-4f57-9397-23aad4f0ca98",
   "metadata": {},
   "outputs": [],
   "source": [
    "images = []\n",
    "for filename in files_list:\n",
    "    full_string = str(png_source_folder) + str(filename)\n",
    "    images.append(iio.imread(full_string))"
   ]
  },
  {
   "cell_type": "code",
   "execution_count": 6,
   "id": "e5a6ef48-8449-4403-b428-b8923641123a",
   "metadata": {},
   "outputs": [],
   "source": [
    "iio.imwrite('SEAsia_piracy_gif.gif', images, duration = 10, loop = 0)"
   ]
  },
  {
   "cell_type": "markdown",
   "id": "cf09c9b0-e0fa-4832-9914-9923357a1e2b",
   "metadata": {},
   "source": [
    "filename_numero = []\n",
    "for x_name in files_list:\n",
    "    x_name = x_name.replace(\".png\", \"\")\n",
    "    x_name = x_name.replace(\"piracy_animation_test\", \"\")\n",
    "    filename_numero.append(x_name)\n",
    "\n",
    "for numero in filename_numero:\n",
    "    a, b, c, d = [int(digit) for digit in numero]  # Convert each digit to an integer\n",
    "    print(f\"a = {a}, b = {b}, c = {c}, d = {d}\")\n",
    "    "
   ]
  },
  {
   "cell_type": "code",
   "execution_count": null,
   "id": "0e2dcd34-5b17-45f9-9cdb-728dd5cf0270",
   "metadata": {},
   "outputs": [],
   "source": []
  }
 ],
 "metadata": {
  "kernelspec": {
   "display_name": "Python 3 (ipykernel)",
   "language": "python",
   "name": "python3"
  },
  "language_info": {
   "codemirror_mode": {
    "name": "ipython",
    "version": 3
   },
   "file_extension": ".py",
   "mimetype": "text/x-python",
   "name": "python",
   "nbconvert_exporter": "python",
   "pygments_lexer": "ipython3",
   "version": "3.13.2"
  }
 },
 "nbformat": 4,
 "nbformat_minor": 5
}
